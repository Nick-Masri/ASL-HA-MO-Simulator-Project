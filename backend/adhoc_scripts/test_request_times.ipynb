{
 "cells": [
  {
   "cell_type": "code",
   "execution_count": 1,
   "metadata": {},
   "outputs": [],
   "source": [
    "import pandas as pd\n",
    "import numpy as np\n",
    "import os\n",
    "import requests\n",
    "import datetime\n",
    "import pytz\n",
    "import grequests\n",
    "import time"
   ]
  },
  {
   "cell_type": "code",
   "execution_count": 21,
   "metadata": {},
   "outputs": [],
   "source": [
    "HAMO_URL = 'https://sp-ride.tp-tsc.com/omsp/external'\n",
    "APIKEY = os.getenv('HAMO_APIKEY')\n",
    "\n",
    "# get stations, one call\n",
    "def get_available_stations():\n",
    "    '''\n",
    "    returns available stations\n",
    "    '''\n",
    "    # ping tmc\n",
    "    querystring = {\"zone_id\":\"1\",\"lang\":\"en\"}\n",
    "    \n",
    "    headers = {\n",
    "        'omms_auth': APIKEY\n",
    "        }\n",
    "    url = HAMO_URL+\"/station/list\"\n",
    "    response = requests.request(\"GET\", url, headers=headers, params=querystring)\n",
    "    stations = []\n",
    "    for  area in response.json()['zone']['areas']:\n",
    "        for station in  area['stations']:\n",
    "            stations.append(station)    \n",
    "    # return list of stations that are open \n",
    "    return stations\n",
    "\n",
    "# get station states\n",
    "def get_station_state(station_ids, parallel_req = False):\n",
    "    '''\n",
    "    returns idle vehicles at each station in a dataframe\n",
    "    '''\n",
    "    idle_vehicles = np.zeros(len(station_ids))\n",
    "    available_parking = np.zeros(len(station_ids))\n",
    "    is_open = np.zeros(len(station_ids))\n",
    "    headers = {\n",
    "        'omms_auth': APIKEY\n",
    "    }\n",
    "    url = HAMO_URL+\"/station/detail\"\n",
    "    reqs = []\n",
    "    t1 = time.time()\n",
    "    if parallel_req:\n",
    "        for i, s_id in enumerate(station_ids):\n",
    "            #print \"{}/{}, id: {}\".format(i,len(station_ids),s_id)\n",
    "            querystring = {\"zone_id\":\"1\",\"station_id\":str(s_id),\"lang\":\"en\"}\n",
    "            # response = requests.request(\"GET\", url, headers=headers, params=querystring)\n",
    "            reqs.append(grequests.get(url, headers=headers, params=querystring))\n",
    "        print \"sending requests\"\n",
    "        responses = grequests.map(reqs)\n",
    "        for i,response in enumerate(responses):\n",
    "            station = response.json()['station']\n",
    "            idle_vehicles[i] = station['available_car']\n",
    "            available_parking[i] = station['parking_space_free']\n",
    "            is_open[i] = station['opening_flag_today']\n",
    "    else:\n",
    "        for i, s_id in enumerate(station_ids):\n",
    "            querystring = {\"zone_id\":\"1\",\"station_id\":str(s_id),\"lang\":\"en\"}\n",
    "            response = requests.request(\"GET\", url, headers=headers, params=querystring)\n",
    "            station = response.json()['station']\n",
    "            idle_vehicles[i] = station['available_car']\n",
    "            available_parking[i] = station['parking_space_free']\n",
    "            is_open[i] = station['opening_flag_today']\n",
    "    print \"Time of requests: {}\".format(time.time() - t1)\n",
    "    stations_state = pd.DataFrame(index= station_ids)\n",
    "    stations_state['idle_vehicles'] = idle_vehicles\n",
    "    stations_state['available_parking'] = available_parking\n",
    "    stations_state['is_open'] = is_open\n",
    "    return stations_state"
   ]
  },
  {
   "cell_type": "code",
   "execution_count": 12,
   "metadata": {},
   "outputs": [],
   "source": [
    "stations = pd.DataFrame(get_available_stations())"
   ]
  },
  {
   "cell_type": "markdown",
   "metadata": {},
   "source": [
    "Get stations via sequential method:"
   ]
  },
  {
   "cell_type": "code",
   "execution_count": 22,
   "metadata": {},
   "outputs": [
    {
     "name": "stdout",
     "output_type": "stream",
     "text": [
      "Time of requests: 146.028296947\n"
     ]
    }
   ],
   "source": [
    "stations_state = get_station_state(stations['station_id'], parallel_req = False)"
   ]
  },
  {
   "cell_type": "markdown",
   "metadata": {},
   "source": [
    "Get stations via parallel method:"
   ]
  },
  {
   "cell_type": "code",
   "execution_count": 23,
   "metadata": {},
   "outputs": [
    {
     "name": "stdout",
     "output_type": "stream",
     "text": [
      "sending requests\n",
      "Time of requests: 44.5434892178\n"
     ]
    }
   ],
   "source": [
    "stations_state = get_station_state(stations['station_id'], parallel_req = True)"
   ]
  },
  {
   "cell_type": "code",
   "execution_count": null,
   "metadata": {},
   "outputs": [],
   "source": []
  }
 ],
 "metadata": {
  "kernelspec": {
   "display_name": "Python 2",
   "language": "python",
   "name": "python2"
  },
  "language_info": {
   "codemirror_mode": {
    "name": "ipython",
    "version": 2
   },
   "file_extension": ".py",
   "mimetype": "text/x-python",
   "name": "python",
   "nbconvert_exporter": "python",
   "pygments_lexer": "ipython2",
   "version": "2.7.10"
  }
 },
 "nbformat": 4,
 "nbformat_minor": 2
}
